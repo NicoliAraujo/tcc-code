{
 "cells": [
  {
   "cell_type": "code",
   "execution_count": 1,
   "metadata": {},
   "outputs": [
    {
     "name": "stderr",
     "output_type": "stream",
     "text": [
      "Using TensorFlow backend.\n"
     ]
    }
   ],
   "source": [
    "import pandas as pd\n",
    "import numpy as np\n",
    "from data_generator.batch_generator import BatchGenerator\n",
    "from keras.optimizers import Adam, SGD, RMSprop\n",
    "from keras.callbacks import ModelCheckpoint, CSVLogger, EarlyStopping\n",
    "from squeezenet_master.model import *\n",
    "from keras import backend as K\n",
    "K.set_image_data_format('channels_first')\n",
    "\n",
    "from keras.callbacks import ReduceLROnPlateau\n",
    "from keras.layers import BatchNormalization, Activation, GlobalAveragePooling2D, UpSampling2D\n",
    "from keras.layers.core import Flatten, Dense, Dropout\n",
    "from keras.models import Model\n",
    "\n",
    "import tensorflow as tf"
   ]
  },
  {
   "cell_type": "markdown",
   "metadata": {},
   "source": [
    "Image-treat-1: sem data augmentation, com normalização e equalização\n",
    "\n",
    "Image-treat-2: com data augmentation, com normalização e equalização\n",
    "\n",
    "Image-treat-3: com data augmentation, com normalização e com equalização"
   ]
  },
  {
   "cell_type": "code",
   "execution_count": 2,
   "metadata": {},
   "outputs": [],
   "source": [
    "config = tf.ConfigProto(allow_soft_placement=True)\n",
    "config.gpu_options.allocator_type = 'BFC'\n",
    "config.gpu_options.per_process_gpu_memory_fraction = 0.9"
   ]
  },
  {
   "cell_type": "code",
   "execution_count": 3,
   "metadata": {},
   "outputs": [
    {
     "data": {
      "text/plain": [
       "('callbacks/squeeze/age/history-regression-abordagem-squeeze1-relu.csv',\n",
       " 'callbacks/squeeze/age/class-weights-abordagem-squeeze1-relu.{epoch:02d}-{val_loss:.2f}.hdf5')"
      ]
     },
     "execution_count": 3,
     "metadata": {},
     "output_type": "execute_result"
    }
   ],
   "source": [
    "approach = 'abordagem-squeeze1' \n",
    "activation = 'relu'\n",
    "net = 'squeeze'\n",
    "\n",
    "if net == 'alexnet':\n",
    "    model = AlexNet\n",
    "elif net =='lenet':\n",
    "    model = LeNet\n",
    "elif net == 'vgg16':\n",
    "    model = VGG16 \n",
    "elif net== 'squeeze':\n",
    "    model = SqueezeNet\n",
    "csvlogger_name = 'callbacks/'+net +'/age/history-regression-' + approach + '-' + activation + '.csv'\n",
    "checkpoint_filename = 'callbacks/'+net+'/age/class-weights-' + approach + '-' + activation + '.{epoch:02d}-{val_loss:.2f}.hdf5'\n",
    "csvlogger_name, checkpoint_filename"
   ]
  },
  {
   "cell_type": "code",
   "execution_count": 4,
   "metadata": {},
   "outputs": [],
   "source": [
    "df = pd.read_csv('dataset/csv/imdb_csv/imdb_age_regression_train_split_47950-70-10-20.csv')"
   ]
  },
  {
   "cell_type": "code",
   "execution_count": 5,
   "metadata": {},
   "outputs": [
    {
     "data": {
      "text/plain": [
       "(['class_id'], ['image_name', 'class_id'])"
      ]
     },
     "execution_count": 5,
     "metadata": {},
     "output_type": "execute_result"
    }
   ],
   "source": [
    "cols = list(df.columns[1:])\n",
    "in_format = list(df.columns)\n",
    "cols, in_format"
   ]
  },
  {
   "cell_type": "code",
   "execution_count": 6,
   "metadata": {},
   "outputs": [],
   "source": [
    "train_dataset = BatchGenerator(box_output_format=cols)\n",
    "validation_dataset = BatchGenerator(box_output_format=cols)\n",
    "\n",
    "train_dataset. parse_csv(labels_filename='dataset/csv/imdb_csv/imdb_age_regression_train_split_47950-70-10-20.csv', \n",
    "                        images_dir='dataset/imdb-hand-crop',\n",
    "                        input_format=in_format)\n",
    "\n",
    "validation_dataset.parse_csv(labels_filename='dataset/csv/imdb_csv/imdb_age_regression_val_split_47950-70-10-20.csv', \n",
    "                             images_dir='dataset/imdb-hand-crop',\n",
    "                             input_format=in_format)"
   ]
  },
  {
   "cell_type": "code",
   "execution_count": 7,
   "metadata": {},
   "outputs": [],
   "source": [
    "img_height, img_width, img_depth = (224,224,3)\n",
    "\n",
    "epochs = 1000\n",
    "\n",
    "train_batch_size = 64\n",
    "shuffle = True\n",
    "ssd_train = False\n",
    "\n",
    "validation_batch_size = 32\n",
    "\n",
    "patience=30"
   ]
  },
  {
   "cell_type": "code",
   "execution_count": 8,
   "metadata": {},
   "outputs": [
    {
     "name": "stdout",
     "output_type": "stream",
     "text": [
      "Number of images in the dataset: 33565\n",
      "Number of images in the dataset: 4795\n"
     ]
    }
   ],
   "source": [
    "train_generator = train_dataset.generate(batch_size=train_batch_size,\n",
    "                                         shuffle=shuffle,\n",
    "                                         ssd_train=ssd_train,\n",
    "                                         random_rotation=20,\n",
    "                                         translate=(0.2, 0.2),\n",
    "                                         scale=(0.8, 1.2),\n",
    "                                         flip=0.5,\n",
    "                                         equalize=True,\n",
    "                                         channels_first=True,\n",
    "                                         divide_by_stddev=255,\n",
    "                                         returns={'processed_labels'},\n",
    "                                         resize=(img_height, img_width))\n",
    "\n",
    "validation_generator = validation_dataset.generate(batch_size=validation_batch_size,\n",
    "                                                   shuffle=shuffle,\n",
    "                                                   ssd_train=ssd_train,\n",
    "                                                   divide_by_stddev=255,\n",
    "                                                   equalize=True,\n",
    "                                                   channels_first=True,\n",
    "                                                   returns={'processed_labels'},\n",
    "                                                   resize=(img_height, img_width))\n",
    "\n",
    "print(\"Number of images in the dataset:\", train_dataset.get_n_samples())\n",
    "print(\"Number of images in the dataset:\", validation_dataset.get_n_samples())"
   ]
  },
  {
   "cell_type": "code",
   "execution_count": 9,
   "metadata": {},
   "outputs": [],
   "source": [
    "steps_per_epoch = train_dataset.get_n_samples()/train_batch_size\n",
    "validation_steps = validation_dataset.get_n_samples()/validation_batch_size"
   ]
  },
  {
   "cell_type": "code",
   "execution_count": 10,
   "metadata": {},
   "outputs": [],
   "source": [
    "model = SqueezeNet(1, inputs=(img_depth, img_width, img_height))"
   ]
  },
  {
   "cell_type": "code",
   "execution_count": 11,
   "metadata": {},
   "outputs": [
    {
     "name": "stdout",
     "output_type": "stream",
     "text": [
      "__________________________________________________________________________________________________\n",
      "Layer (type)                    Output Shape         Param #     Connected to                     \n",
      "==================================================================================================\n",
      "input_1 (InputLayer)            (None, 3, 224, 224)  0                                            \n",
      "__________________________________________________________________________________________________\n",
      "conv1 (Conv2D)                  (None, 96, 112, 112) 14208       input_1[0][0]                    \n",
      "__________________________________________________________________________________________________\n",
      "maxpool1 (MaxPooling2D)         (None, 96, 55, 55)   0           conv1[0][0]                      \n",
      "__________________________________________________________________________________________________\n",
      "fire2_squeeze (Conv2D)          (None, 16, 55, 55)   1552        maxpool1[0][0]                   \n",
      "__________________________________________________________________________________________________\n",
      "fire2_expand1 (Conv2D)          (None, 64, 55, 55)   1088        fire2_squeeze[0][0]              \n",
      "__________________________________________________________________________________________________\n",
      "fire2_expand2 (Conv2D)          (None, 64, 55, 55)   9280        fire2_squeeze[0][0]              \n",
      "__________________________________________________________________________________________________\n",
      "concatenate_1 (Concatenate)     (None, 128, 55, 55)  0           fire2_expand1[0][0]              \n",
      "                                                                 fire2_expand2[0][0]              \n",
      "__________________________________________________________________________________________________\n",
      "fire3_squeeze (Conv2D)          (None, 16, 55, 55)   2064        concatenate_1[0][0]              \n",
      "__________________________________________________________________________________________________\n",
      "fire3_expand1 (Conv2D)          (None, 64, 55, 55)   1088        fire3_squeeze[0][0]              \n",
      "__________________________________________________________________________________________________\n",
      "fire3_expand2 (Conv2D)          (None, 64, 55, 55)   9280        fire3_squeeze[0][0]              \n",
      "__________________________________________________________________________________________________\n",
      "concatenate_2 (Concatenate)     (None, 128, 55, 55)  0           fire3_expand1[0][0]              \n",
      "                                                                 fire3_expand2[0][0]              \n",
      "__________________________________________________________________________________________________\n",
      "fire4_squeeze (Conv2D)          (None, 32, 55, 55)   4128        concatenate_2[0][0]              \n",
      "__________________________________________________________________________________________________\n",
      "fire4_expand1 (Conv2D)          (None, 128, 55, 55)  4224        fire4_squeeze[0][0]              \n",
      "__________________________________________________________________________________________________\n",
      "fire4_expand2 (Conv2D)          (None, 128, 55, 55)  36992       fire4_squeeze[0][0]              \n",
      "__________________________________________________________________________________________________\n",
      "concatenate_3 (Concatenate)     (None, 256, 55, 55)  0           fire4_expand1[0][0]              \n",
      "                                                                 fire4_expand2[0][0]              \n",
      "__________________________________________________________________________________________________\n",
      "maxpool4 (MaxPooling2D)         (None, 256, 27, 27)  0           concatenate_3[0][0]              \n",
      "__________________________________________________________________________________________________\n",
      "fire5_squeeze (Conv2D)          (None, 32, 27, 27)   8224        maxpool4[0][0]                   \n",
      "__________________________________________________________________________________________________\n",
      "fire5_expand1 (Conv2D)          (None, 128, 27, 27)  4224        fire5_squeeze[0][0]              \n",
      "__________________________________________________________________________________________________\n",
      "fire5_expand2 (Conv2D)          (None, 128, 27, 27)  36992       fire5_squeeze[0][0]              \n",
      "__________________________________________________________________________________________________\n",
      "concatenate_4 (Concatenate)     (None, 256, 27, 27)  0           fire5_expand1[0][0]              \n",
      "                                                                 fire5_expand2[0][0]              \n",
      "__________________________________________________________________________________________________\n",
      "fire6_squeeze (Conv2D)          (None, 48, 27, 27)   12336       concatenate_4[0][0]              \n",
      "__________________________________________________________________________________________________\n",
      "fire6_expand1 (Conv2D)          (None, 192, 27, 27)  9408        fire6_squeeze[0][0]              \n",
      "__________________________________________________________________________________________________\n",
      "fire6_expand2 (Conv2D)          (None, 192, 27, 27)  83136       fire6_squeeze[0][0]              \n",
      "__________________________________________________________________________________________________\n",
      "concatenate_5 (Concatenate)     (None, 384, 27, 27)  0           fire6_expand1[0][0]              \n",
      "                                                                 fire6_expand2[0][0]              \n",
      "__________________________________________________________________________________________________\n",
      "fire7_squeeze (Conv2D)          (None, 48, 27, 27)   18480       concatenate_5[0][0]              \n",
      "__________________________________________________________________________________________________\n",
      "fire7_expand1 (Conv2D)          (None, 192, 27, 27)  9408        fire7_squeeze[0][0]              \n",
      "__________________________________________________________________________________________________\n",
      "fire7_expand2 (Conv2D)          (None, 192, 27, 27)  83136       fire7_squeeze[0][0]              \n",
      "__________________________________________________________________________________________________\n",
      "concatenate_6 (Concatenate)     (None, 384, 27, 27)  0           fire7_expand1[0][0]              \n",
      "                                                                 fire7_expand2[0][0]              \n",
      "__________________________________________________________________________________________________\n",
      "fire8_squeeze (Conv2D)          (None, 64, 27, 27)   24640       concatenate_6[0][0]              \n",
      "__________________________________________________________________________________________________\n",
      "fire8_expand1 (Conv2D)          (None, 256, 27, 27)  16640       fire8_squeeze[0][0]              \n",
      "__________________________________________________________________________________________________\n",
      "fire8_expand2 (Conv2D)          (None, 256, 27, 27)  147712      fire8_squeeze[0][0]              \n",
      "__________________________________________________________________________________________________\n",
      "concatenate_7 (Concatenate)     (None, 512, 27, 27)  0           fire8_expand1[0][0]              \n",
      "                                                                 fire8_expand2[0][0]              \n",
      "__________________________________________________________________________________________________\n",
      "maxpool8 (MaxPooling2D)         (None, 512, 13, 13)  0           concatenate_7[0][0]              \n",
      "__________________________________________________________________________________________________\n",
      "fire9_squeeze (Conv2D)          (None, 64, 13, 13)   32832       maxpool8[0][0]                   \n",
      "__________________________________________________________________________________________________\n",
      "fire9_expand1 (Conv2D)          (None, 256, 13, 13)  16640       fire9_squeeze[0][0]              \n",
      "__________________________________________________________________________________________________\n",
      "fire9_expand2 (Conv2D)          (None, 256, 13, 13)  147712      fire9_squeeze[0][0]              \n",
      "__________________________________________________________________________________________________\n",
      "concatenate_8 (Concatenate)     (None, 512, 13, 13)  0           fire9_expand1[0][0]              \n",
      "                                                                 fire9_expand2[0][0]              \n",
      "__________________________________________________________________________________________________\n",
      "fire9_dropout (Dropout)         (None, 512, 13, 13)  0           concatenate_8[0][0]              \n",
      "__________________________________________________________________________________________________\n",
      "conv10 (Conv2D)                 (None, 1, 13, 13)    513         fire9_dropout[0][0]              \n",
      "__________________________________________________________________________________________________\n",
      "global_average_pooling2d_1 (Glo (None, 1)            0           conv10[0][0]                     \n",
      "__________________________________________________________________________________________________\n",
      "relu (Activation)               (None, 1)            0           global_average_pooling2d_1[0][0] \n",
      "==================================================================================================\n",
      "Total params: 735,937\n",
      "Trainable params: 735,937\n",
      "Non-trainable params: 0\n",
      "__________________________________________________________________________________________________\n"
     ]
    }
   ],
   "source": [
    "model.summary()"
   ]
  },
  {
   "cell_type": "code",
   "execution_count": 12,
   "metadata": {},
   "outputs": [],
   "source": [
    "optimizer = Adam(lr=0.003, beta_1=0.9, beta_2=0.999, epsilon=None, decay=0.0001, amsgrad=True)\n",
    "# optimizer = SGD(lr=0.001, decay=0.0002, momentum=0.9)\n",
    "#optimizer = RMSprop()"
   ]
  },
  {
   "cell_type": "code",
   "execution_count": 13,
   "metadata": {},
   "outputs": [],
   "source": [
    "csv_logger = CSVLogger(csvlogger_name, append=True, separator=',')\n",
    "\n",
    "checkpoint = ModelCheckpoint(checkpoint_filename,\n",
    "                           monitor='val_loss',\n",
    "                           verbose=1,\n",
    "                           save_best_only=True,\n",
    "                           period=1)\n",
    "\n",
    "earlystopping = EarlyStopping(patience=patience, mode='min')\n",
    "\n",
    "reduce_on_plateau = ReduceLROnPlateau(monitor='val_loss', factor=0.2, patience=patience//5, min_lr=0.001)\n",
    "#callbacks = [tensorboard, checkpoint]\n",
    "callbacks=[checkpoint, csv_logger, earlystopping, reduce_on_plateau]"
   ]
  },
  {
   "cell_type": "code",
   "execution_count": 14,
   "metadata": {},
   "outputs": [],
   "source": [
    "model.compile(loss='mae', optimizer=optimizer, metrics=['mean_squared_error'])"
   ]
  },
  {
   "cell_type": "code",
   "execution_count": null,
   "metadata": {},
   "outputs": [
    {
     "name": "stdout",
     "output_type": "stream",
     "text": [
      "Epoch 1/1000\n",
      "525/524 [==============================] - 2135s 4s/step - loss: 13.0948 - mean_squared_error: 469.5456 - val_loss: 11.1509 - val_mean_squared_error: 205.6876\n",
      "\n",
      "Epoch 00001: val_loss improved from inf to 11.15094, saving model to callbacks/squeeze/age/class-weights-abordagem-squeeze1-relu.01-11.15.hdf5\n",
      "Epoch 2/1000\n",
      " 44/524 [=>............................] - ETA: 26:03 - loss: 11.2124 - mean_squared_error: 209.9793"
     ]
    }
   ],
   "source": [
    "model.fit_generator(train_generator, epochs=epochs, \n",
    "                     steps_per_epoch=steps_per_epoch, \n",
    "                     validation_data=validation_generator,\n",
    "                     validation_steps=validation_steps,\n",
    "                     callbacks=callbacks)"
   ]
  },
  {
   "cell_type": "code",
   "execution_count": null,
   "metadata": {},
   "outputs": [],
   "source": []
  }
 ],
 "metadata": {
  "kernelspec": {
   "display_name": "Python 3",
   "language": "python",
   "name": "python3"
  },
  "language_info": {
   "codemirror_mode": {
    "name": "ipython",
    "version": 3
   },
   "file_extension": ".py",
   "mimetype": "text/x-python",
   "name": "python",
   "nbconvert_exporter": "python",
   "pygments_lexer": "ipython3",
   "version": "3.6.6"
  }
 },
 "nbformat": 4,
 "nbformat_minor": 2
}
