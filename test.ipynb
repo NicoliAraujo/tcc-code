{
 "cells": [
  {
   "cell_type": "code",
   "execution_count": 1,
   "metadata": {},
   "outputs": [
    {
     "name": "stderr",
     "output_type": "stream",
     "text": [
      "Using TensorFlow backend.\n"
     ]
    }
   ],
   "source": [
    "import glob\n",
    "import pandas as pd\n",
    "import numpy as np\n",
    "from data_generator.batch_generator import BatchGenerator\n",
    "from keras.optimizers import Adam\n",
    "from keras.callbacks import ModelCheckpoint#, TensorBoard\n",
    "import pickle\n",
    "from models import AlexNet, LeNet\n",
    "from keras import backend as K\n",
    "from math import sqrt\n",
    "K.set_image_data_format('channels_last')"
   ]
  },
  {
   "cell_type": "code",
   "execution_count": 2,
   "metadata": {},
   "outputs": [
    {
     "data": {
      "text/plain": [
       "('relu', 'abordagem-5', 'lenet')"
      ]
     },
     "execution_count": 2,
     "metadata": {},
     "output_type": "execute_result"
    }
   ],
   "source": [
    "activations = ['relu', 'lrelu']\n",
    "#img_treats=['image-treat-1', 'image-treat-2', 'image-treat-3']\n",
    "img_treats=['abordagem-4', 'abordagem-5', 'abordagem6', 'abordagem7']\n",
    "#nets = ['lenet', 'alexnet']\n",
    "nets = ['lenet']\n",
    "\n",
    "activation, img_treat, net = activations[0], img_treats[1], nets[0]\n",
    "activation, img_treat, net"
   ]
  },
  {
   "cell_type": "code",
   "execution_count": 3,
   "metadata": {},
   "outputs": [],
   "source": [
    "test_dataset = BatchGenerator(box_output_format=['class_id'])\n",
    "test_dataset.parse_csv(labels_filename='/home/nicoli/github/alexnet/dataset/csv/imdb_csv/imdb_age_regression_test_split_47950-70-10-20.csv', \n",
    "                        images_dir='/home/nicoli/github/alexnet/dataset/imdb-hand-crop/',\n",
    "                        input_format=['image_name', 'class_id'])"
   ]
  },
  {
   "cell_type": "code",
   "execution_count": 4,
   "metadata": {},
   "outputs": [],
   "source": [
    "img_height, img_width, img_depth = (224,224,3)\n",
    "\n",
    "epochs = 90\n",
    "melhor_epoca='08'\n",
    "train_batch_size = 128\n",
    "shuffle = True\n",
    "ssd_train = False\n",
    "\n",
    "validation_batch_size = 32\n",
    "\n",
    "\n",
    "# In[15]:\n",
    "\n",
    "test_generator = test_dataset.generate(batch_size=train_batch_size,\n",
    "                                       shuffle=shuffle,\n",
    "                                       ssd_train=ssd_train,\n",
    "                                       divide_by_stddev = 225,\n",
    "                                       #equalize=True,\n",
    "                                       returns={'processed_labels'},\n",
    "                                       resize=(img_height, img_width))"
   ]
  },
  {
   "cell_type": "code",
   "execution_count": 5,
   "metadata": {},
   "outputs": [
    {
     "name": "stdout",
     "output_type": "stream",
     "text": [
      "Number of images in the dataset: 9590\n"
     ]
    }
   ],
   "source": [
    "print(\"Number of images in the dataset:\", test_dataset.get_n_samples())"
   ]
  },
  {
   "cell_type": "code",
   "execution_count": 6,
   "metadata": {},
   "outputs": [],
   "source": [
    "steps = test_dataset.get_n_samples()/train_batch_size"
   ]
  },
  {
   "cell_type": "code",
   "execution_count": 7,
   "metadata": {},
   "outputs": [
    {
     "name": "stdout",
     "output_type": "stream",
     "text": [
      "_________________________________________________________________\n",
      "Layer (type)                 Output Shape              Param #   \n",
      "=================================================================\n",
      "conv_1 (Conv2D)              (None, 220, 220, 6)       456       \n",
      "_________________________________________________________________\n",
      "activation_1 (Activation)    (None, 220, 220, 6)       0         \n",
      "_________________________________________________________________\n",
      "max_pooling2d_1 (MaxPooling2 (None, 110, 110, 6)       0         \n",
      "_________________________________________________________________\n",
      "conv_2 (Conv2D)              (None, 106, 106, 16)      2416      \n",
      "_________________________________________________________________\n",
      "activation_2 (Activation)    (None, 106, 106, 16)      0         \n",
      "_________________________________________________________________\n",
      "max_pooling2d_2 (MaxPooling2 (None, 53, 53, 16)        0         \n",
      "_________________________________________________________________\n",
      "flatten_1 (Flatten)          (None, 44944)             0         \n",
      "_________________________________________________________________\n",
      "dense_1 (Dense)              (None, 120)               5393400   \n",
      "_________________________________________________________________\n",
      "activation_3 (Activation)    (None, 120)               0         \n",
      "_________________________________________________________________\n",
      "dense_2 (Dense)              (None, 84)                10164     \n",
      "_________________________________________________________________\n",
      "activation_4 (Activation)    (None, 84)                0         \n",
      "_________________________________________________________________\n",
      "dense_3 (Dense)              (None, 1)                 85        \n",
      "_________________________________________________________________\n",
      "activation_5 (Activation)    (None, 1)                 0         \n",
      "=================================================================\n",
      "Total params: 5,406,521\n",
      "Trainable params: 5,406,521\n",
      "Non-trainable params: 0\n",
      "_________________________________________________________________\n"
     ]
    },
    {
     "name": "stderr",
     "output_type": "stream",
     "text": [
      "/home/nicoli/github/alexnet/models.py:109: UserWarning: Considering a regression task with output function being relu\n",
      "  warnings.warn(warning)\n"
     ]
    }
   ],
   "source": [
    "if net == 'alexnet':\n",
    "    net_obj = AlexNet\n",
    "elif net == 'lenet':\n",
    "    net_obj = LeNet\n",
    "weights_path = glob.glob('callbacks/' + net + '/age/consolidados/class-weights-' + img_treat + '-' + activation + '*')[0]\n",
    "#weights_path = glob.glob('callbacks/' + net + '/age/class-weights-' + img_treat + '-' + activation + '.' + melhor_epoca + '*')[0]\n",
    "model = net_obj(1, img_width, img_height, img_depth, activation, weights_path=weights_path)\n",
    "\n",
    "\n",
    "# In[7]:\n",
    "\n",
    "\n",
    "model.summary()\n",
    "#alexnet.model.load_weights('callbacks/alexnet/age/weights.24-1658.03.hdf5')"
   ]
  },
  {
   "cell_type": "code",
   "execution_count": 8,
   "metadata": {},
   "outputs": [],
   "source": [
    "optimizer = Adam(lr=0.0000001, beta_1=0.9, beta_2=0.999, epsilon=None, decay=0.0000000001, amsgrad=True)"
   ]
  },
  {
   "cell_type": "code",
   "execution_count": 9,
   "metadata": {},
   "outputs": [],
   "source": [
    "model.compile(loss='mean_squared_error', optimizer=optimizer, metrics=['mae'])"
   ]
  },
  {
   "cell_type": "code",
   "execution_count": 10,
   "metadata": {},
   "outputs": [
    {
     "data": {
      "text/plain": [
       "(13.030968210663557, [169.8061325073242, 10.089216232299805])"
      ]
     },
     "execution_count": 10,
     "metadata": {},
     "output_type": "execute_result"
    }
   ],
   "source": [
    "stats = model.evaluate_generator(test_generator,steps=30)\n",
    "\n",
    "\n",
    "sqrt(stats[0]), stats"
   ]
  },
  {
   "cell_type": "code",
   "execution_count": 11,
   "metadata": {},
   "outputs": [],
   "source": [
    "start = weights_path.find(activation)+len(activation)+1\n",
    "end = start + 2\n",
    "epoca = int(weights_path[start:end]) + 1"
   ]
  },
  {
   "cell_type": "code",
   "execution_count": 12,
   "metadata": {},
   "outputs": [],
   "source": [
    "try:\n",
    "    df_results = pd.read_csv('graficos/results_teste.csv', index_col=0)\n",
    "\n",
    "except FileNotFoundError:\n",
    "    df_results = pd.DataFrame({'Rede':[], 'Ativação':[], 'RMSE':[], 'MAE':[], 'FASE': [], 'Epoca': []})\n",
    "df_results = df_results.append({'Rede':net, 'Ativação':activation, 'RMSE': sqrt(stats[0]), 'MAE':stats[1], 'FASE': img_treat, 'Epoca': epoca}, ignore_index=True)\n",
    "\n",
    "# In[13]:\n",
    "\n",
    "#df_results.to_csv('graficos/results_teste_' + img_treat + '.csv', index_col=0)\n",
    "df_results.to_csv('graficos/results_teste.csv')\n",
    "\n"
   ]
  },
  {
   "cell_type": "code",
   "execution_count": 18,
   "metadata": {
    "scrolled": true
   },
   "outputs": [
    {
     "data": {
      "text/html": [
       "<div>\n",
       "<style scoped>\n",
       "    .dataframe tbody tr th:only-of-type {\n",
       "        vertical-align: middle;\n",
       "    }\n",
       "\n",
       "    .dataframe tbody tr th {\n",
       "        vertical-align: top;\n",
       "    }\n",
       "\n",
       "    .dataframe thead th {\n",
       "        text-align: right;\n",
       "    }\n",
       "</style>\n",
       "<table border=\"1\" class=\"dataframe\">\n",
       "  <thead>\n",
       "    <tr style=\"text-align: right;\">\n",
       "      <th></th>\n",
       "      <th>Ativação</th>\n",
       "      <th>FASE</th>\n",
       "      <th>MAE</th>\n",
       "      <th>RMSE</th>\n",
       "      <th>Rede</th>\n",
       "      <th>Epoca</th>\n",
       "    </tr>\n",
       "  </thead>\n",
       "  <tbody>\n",
       "    <tr>\n",
       "      <th>0</th>\n",
       "      <td>relu</td>\n",
       "      <td>image-treat-1</td>\n",
       "      <td>10.537234</td>\n",
       "      <td>13.553820</td>\n",
       "      <td>lenet</td>\n",
       "      <td>4</td>\n",
       "    </tr>\n",
       "    <tr>\n",
       "      <th>1</th>\n",
       "      <td>lrelu</td>\n",
       "      <td>image-treat-1</td>\n",
       "      <td>38.330450</td>\n",
       "      <td>40.826534</td>\n",
       "      <td>lenet</td>\n",
       "      <td>8</td>\n",
       "    </tr>\n",
       "    <tr>\n",
       "      <th>2</th>\n",
       "      <td>relu</td>\n",
       "      <td>image-treat-1</td>\n",
       "      <td>11.032492</td>\n",
       "      <td>13.764649</td>\n",
       "      <td>alexnet</td>\n",
       "      <td>5</td>\n",
       "    </tr>\n",
       "    <tr>\n",
       "      <th>3</th>\n",
       "      <td>lrelu</td>\n",
       "      <td>image-treat-1</td>\n",
       "      <td>39.278125</td>\n",
       "      <td>41.974881</td>\n",
       "      <td>alexnet</td>\n",
       "      <td>5</td>\n",
       "    </tr>\n",
       "    <tr>\n",
       "      <th>4</th>\n",
       "      <td>relu</td>\n",
       "      <td>image-treat-2</td>\n",
       "      <td>37.854424</td>\n",
       "      <td>40.272234</td>\n",
       "      <td>lenet</td>\n",
       "      <td>39</td>\n",
       "    </tr>\n",
       "    <tr>\n",
       "      <th>5</th>\n",
       "      <td>lrelu</td>\n",
       "      <td>image-treat-2</td>\n",
       "      <td>38.501557</td>\n",
       "      <td>41.065953</td>\n",
       "      <td>lenet</td>\n",
       "      <td>21</td>\n",
       "    </tr>\n",
       "    <tr>\n",
       "      <th>6</th>\n",
       "      <td>relu</td>\n",
       "      <td>image-treat-2</td>\n",
       "      <td>11.591327</td>\n",
       "      <td>14.595028</td>\n",
       "      <td>alexnet</td>\n",
       "      <td>16</td>\n",
       "    </tr>\n",
       "    <tr>\n",
       "      <th>7</th>\n",
       "      <td>lrelu</td>\n",
       "      <td>image-treat-2</td>\n",
       "      <td>28.062363</td>\n",
       "      <td>31.811022</td>\n",
       "      <td>alexnet</td>\n",
       "      <td>16</td>\n",
       "    </tr>\n",
       "    <tr>\n",
       "      <th>8</th>\n",
       "      <td>relu</td>\n",
       "      <td>image-treat-3</td>\n",
       "      <td>38.656497</td>\n",
       "      <td>41.200746</td>\n",
       "      <td>lenet</td>\n",
       "      <td>46</td>\n",
       "    </tr>\n",
       "    <tr>\n",
       "      <th>9</th>\n",
       "      <td>lrelu</td>\n",
       "      <td>image-treat-3</td>\n",
       "      <td>38.261533</td>\n",
       "      <td>40.855255</td>\n",
       "      <td>lenet</td>\n",
       "      <td>38</td>\n",
       "    </tr>\n",
       "    <tr>\n",
       "      <th>10</th>\n",
       "      <td>relu</td>\n",
       "      <td>image-treat-3</td>\n",
       "      <td>13.098314</td>\n",
       "      <td>15.884113</td>\n",
       "      <td>alexnet</td>\n",
       "      <td>7</td>\n",
       "    </tr>\n",
       "    <tr>\n",
       "      <th>11</th>\n",
       "      <td>lrelu</td>\n",
       "      <td>image-treat-3</td>\n",
       "      <td>35.250238</td>\n",
       "      <td>38.044025</td>\n",
       "      <td>alexnet</td>\n",
       "      <td>18</td>\n",
       "    </tr>\n",
       "    <tr>\n",
       "      <th>12</th>\n",
       "      <td>relu</td>\n",
       "      <td>abordagem-4</td>\n",
       "      <td>9.980925</td>\n",
       "      <td>12.918468</td>\n",
       "      <td>lenet</td>\n",
       "      <td>38</td>\n",
       "    </tr>\n",
       "    <tr>\n",
       "      <th>13</th>\n",
       "      <td>relu</td>\n",
       "      <td>abordagem-5</td>\n",
       "      <td>10.089216</td>\n",
       "      <td>13.030968</td>\n",
       "      <td>lenet</td>\n",
       "      <td>9</td>\n",
       "    </tr>\n",
       "  </tbody>\n",
       "</table>\n",
       "</div>"
      ],
      "text/plain": [
       "   Ativação           FASE        MAE       RMSE     Rede  Epoca\n",
       "0      relu  image-treat-1  10.537234  13.553820    lenet      4\n",
       "1     lrelu  image-treat-1  38.330450  40.826534    lenet      8\n",
       "2      relu  image-treat-1  11.032492  13.764649  alexnet      5\n",
       "3     lrelu  image-treat-1  39.278125  41.974881  alexnet      5\n",
       "4      relu  image-treat-2  37.854424  40.272234    lenet     39\n",
       "5     lrelu  image-treat-2  38.501557  41.065953    lenet     21\n",
       "6      relu  image-treat-2  11.591327  14.595028  alexnet     16\n",
       "7     lrelu  image-treat-2  28.062363  31.811022  alexnet     16\n",
       "8      relu  image-treat-3  38.656497  41.200746    lenet     46\n",
       "9     lrelu  image-treat-3  38.261533  40.855255    lenet     38\n",
       "10     relu  image-treat-3  13.098314  15.884113  alexnet      7\n",
       "11    lrelu  image-treat-3  35.250238  38.044025  alexnet     18\n",
       "12     relu    abordagem-4   9.980925  12.918468    lenet     38\n",
       "13     relu    abordagem-5  10.089216  13.030968    lenet      9"
      ]
     },
     "execution_count": 18,
     "metadata": {},
     "output_type": "execute_result"
    }
   ],
   "source": [
    "df_results"
   ]
  },
  {
   "cell_type": "code",
   "execution_count": 14,
   "metadata": {},
   "outputs": [],
   "source": [
    "prev = next(test_generator)\n",
    "\n",
    "\n",
    "#prev[1]\n",
    "predict = model.predict(prev[0])\n"
   ]
  },
  {
   "cell_type": "code",
   "execution_count": 15,
   "metadata": {},
   "outputs": [
    {
     "name": "stdout",
     "output_type": "stream",
     "text": [
      "[[53.75101 ]\n",
      " [36.87372 ]\n",
      " [36.668808]\n",
      " [44.03962 ]\n",
      " [55.682224]]\n"
     ]
    }
   ],
   "source": [
    "print(predict[:5])"
   ]
  },
  {
   "cell_type": "code",
   "execution_count": null,
   "metadata": {},
   "outputs": [],
   "source": []
  }
 ],
 "metadata": {
  "kernelspec": {
   "display_name": "Python 3",
   "language": "python",
   "name": "python3"
  },
  "language_info": {
   "codemirror_mode": {
    "name": "ipython",
    "version": 3
   },
   "file_extension": ".py",
   "mimetype": "text/x-python",
   "name": "python",
   "nbconvert_exporter": "python",
   "pygments_lexer": "ipython3",
   "version": "3.6.6"
  }
 },
 "nbformat": 4,
 "nbformat_minor": 2
}
