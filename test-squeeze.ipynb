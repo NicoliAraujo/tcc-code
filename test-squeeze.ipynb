{
 "cells": [
  {
   "cell_type": "code",
   "execution_count": 1,
   "metadata": {},
   "outputs": [
    {
     "name": "stderr",
     "output_type": "stream",
     "text": [
      "Using TensorFlow backend.\n"
     ]
    }
   ],
   "source": [
    "import glob\n",
    "import pandas as pd\n",
    "import numpy as np\n",
    "from data_generator.batch_generator import BatchGenerator\n",
    "from squeezenet_master.model import *\n",
    "from keras.optimizers import Adam\n",
    "from keras.callbacks import ModelCheckpoint#, TensorBoard\n",
    "import pickle\n",
    "from models import AlexNet, LeNet\n",
    "from keras import backend as K\n",
    "from math import sqrt\n",
    "K.set_image_data_format('channels_first')"
   ]
  },
  {
   "cell_type": "code",
   "execution_count": 2,
   "metadata": {},
   "outputs": [],
   "source": [
    "approach = 'abordagem-squeeze1' \n",
    "activation = 'relu'\n",
    "net = 'squeeze'"
   ]
  },
  {
   "cell_type": "code",
   "execution_count": 3,
   "metadata": {},
   "outputs": [],
   "source": [
    "test_dataset = BatchGenerator(box_output_format=['class_id'])\n",
    "test_dataset.parse_csv(labels_filename='dataset/csv/imdb_csv/imdb_age_regression_test_split_47950-70-10-20.csv', \n",
    "                        images_dir='dataset/imdb-hand-crop/',\n",
    "                        input_format=['image_name', 'class_id'])"
   ]
  },
  {
   "cell_type": "code",
   "execution_count": 4,
   "metadata": {},
   "outputs": [],
   "source": [
    "img_height, img_width, img_depth = (224,224,3)\n",
    "\n",
    "epochs = 90\n",
    "melhor_epoca='37'\n",
    "train_batch_size = 128\n",
    "shuffle = True\n",
    "ssd_train = False\n",
    "\n",
    "validation_batch_size = 32\n",
    "\n",
    "\n",
    "# In[15]:\n",
    "\n",
    "test_generator = test_dataset.generate(batch_size=train_batch_size,\n",
    "                                       shuffle=shuffle,\n",
    "                                       ssd_train=ssd_train,\n",
    "                                       divide_by_stddev = 225,\n",
    "                                       #equalize=True,\n",
    "                                       channels_first=True,\n",
    "                                       returns={'processed_labels'},\n",
    "                                       resize=(img_height, img_width))"
   ]
  },
  {
   "cell_type": "code",
   "execution_count": 5,
   "metadata": {},
   "outputs": [
    {
     "name": "stdout",
     "output_type": "stream",
     "text": [
      "Number of images in the dataset: 9590\n"
     ]
    }
   ],
   "source": [
    "print(\"Number of images in the dataset:\", test_dataset.get_n_samples())"
   ]
  },
  {
   "cell_type": "code",
   "execution_count": 6,
   "metadata": {},
   "outputs": [],
   "source": [
    "steps = test_dataset.get_n_samples()/train_batch_size"
   ]
  },
  {
   "cell_type": "code",
   "execution_count": 38,
   "metadata": {},
   "outputs": [],
   "source": [
    "img_treat = approach\n",
    "activation = 'relu'\n",
    "net = 'squeeze'\n",
    "\n",
    "if net == 'alexnet':\n",
    "    model = AlexNet\n",
    "elif net =='lenet':\n",
    "    model = LeNet\n",
    "elif net == 'vgg16':\n",
    "    model = VGG16 \n",
    "csvlogger_name = 'callbacks/'+net +'/age/consolidados/history-regression-' + approach + '-' + activation + '.csv'\n",
    "checkpoint_filename = 'callbacks/'+net+'/age/consolidados/class-weights-' + approach + '-' + activation + '.{epoch:02d}-{val_loss:.2f}.hdf5'\n",
    "csvlogger_name, checkpoint_filename\n",
    "\n",
    "weights_path = glob.glob('callbacks/' + net + '/age/consolidados/class-weights-' + img_treat + '-' + activation + '*')[0]\n",
    "#weights_path = glob.glob('callbacks/' + net + '/age/class-weights-' + img_treat + '-' + activation + '.' + melhor_epoca + '*')[0]\n",
    "\n",
    "model = SqueezeNet(1, inputs=(img_depth, img_width, img_height))\n",
    "\n",
    "\n",
    "model.load_weights(weights_path)"
   ]
  },
  {
   "cell_type": "code",
   "execution_count": 39,
   "metadata": {},
   "outputs": [
    {
     "data": {
      "text/plain": [
       "'callbacks/squeeze/age/consolidados/class-weights-abordagem-squeeze1-relu.37-10.75.hdf5'"
      ]
     },
     "execution_count": 39,
     "metadata": {},
     "output_type": "execute_result"
    }
   ],
   "source": [
    "weights_path"
   ]
  },
  {
   "cell_type": "code",
   "execution_count": 40,
   "metadata": {},
   "outputs": [],
   "source": [
    "optimizer = Adam(lr=0.0000001, beta_1=0.9, beta_2=0.999, epsilon=None, decay=0.0000000001, amsgrad=True)"
   ]
  },
  {
   "cell_type": "code",
   "execution_count": 41,
   "metadata": {},
   "outputs": [],
   "source": [
    "model.compile(loss='mean_squared_error', optimizer=optimizer, metrics=['mae'])"
   ]
  },
  {
   "cell_type": "code",
   "execution_count": 42,
   "metadata": {},
   "outputs": [
    {
     "data": {
      "text/plain": [
       "(13.846121028850387, [191.7150675455729, 10.7217347462972])"
      ]
     },
     "execution_count": 42,
     "metadata": {},
     "output_type": "execute_result"
    }
   ],
   "source": [
    "stats = model.evaluate_generator(test_generator,steps=30)\n",
    "\n",
    "\n",
    "sqrt(stats[0]), stats"
   ]
  },
  {
   "cell_type": "code",
   "execution_count": null,
   "metadata": {},
   "outputs": [],
   "source": []
  },
  {
   "cell_type": "code",
   "execution_count": 43,
   "metadata": {},
   "outputs": [],
   "source": [
    "start = weights_path.find(activation)+len(activation)+1\n",
    "end = start + 2\n",
    "epoca = int(weights_path[start:end]) + 1"
   ]
  },
  {
   "cell_type": "code",
   "execution_count": 44,
   "metadata": {},
   "outputs": [
    {
     "data": {
      "text/plain": [
       "38"
      ]
     },
     "execution_count": 44,
     "metadata": {},
     "output_type": "execute_result"
    }
   ],
   "source": [
    "int(weights_path[start:end]) + 1"
   ]
  },
  {
   "cell_type": "code",
   "execution_count": 59,
   "metadata": {},
   "outputs": [],
   "source": [
    "try:\n",
    "    df_results = pd.read_csv('graficos/results_teste.csv', index_col=0)\n",
    "\n",
    "except FileNotFoundError:\n",
    "    df_results = pd.DataFrame({'Rede':[], 'Ativação':[], 'RMSE':[], 'MAE':[], 'FASE': [], 'Epoca': []})\n",
    "df_results = df_results.append({'Rede':net, 'Ativação':activation, 'RMSE': sqrt(stats[0]), 'MAE':stats[1], 'FASE': img_treat, 'Epoca': epoca}, ignore_index=True)\n",
    "\n",
    "# In[13]:\n",
    "\n",
    "#df_results.to_csv('graficos/results_teste_' + img_treat + '.csv', index_col=0)\n",
    "df_results.to_csv('graficos/results_teste.csv')\n",
    "\n"
   ]
  },
  {
   "cell_type": "code",
   "execution_count": 70,
   "metadata": {},
   "outputs": [
    {
     "data": {
      "text/html": [
       "<div>\n",
       "<style scoped>\n",
       "    .dataframe tbody tr th:only-of-type {\n",
       "        vertical-align: middle;\n",
       "    }\n",
       "\n",
       "    .dataframe tbody tr th {\n",
       "        vertical-align: top;\n",
       "    }\n",
       "\n",
       "    .dataframe thead th {\n",
       "        text-align: right;\n",
       "    }\n",
       "</style>\n",
       "<table border=\"1\" class=\"dataframe\">\n",
       "  <thead>\n",
       "    <tr style=\"text-align: right;\">\n",
       "      <th></th>\n",
       "      <th>Ativação</th>\n",
       "      <th>FASE</th>\n",
       "      <th>MAE</th>\n",
       "      <th>RMSE</th>\n",
       "      <th>Rede</th>\n",
       "      <th>Epoca</th>\n",
       "    </tr>\n",
       "  </thead>\n",
       "  <tbody>\n",
       "    <tr>\n",
       "      <th>0</th>\n",
       "      <td>relu</td>\n",
       "      <td>image-treat-1</td>\n",
       "      <td>10.537234</td>\n",
       "      <td>13.553820</td>\n",
       "      <td>lenet</td>\n",
       "      <td>4.0</td>\n",
       "    </tr>\n",
       "    <tr>\n",
       "      <th>1</th>\n",
       "      <td>lrelu</td>\n",
       "      <td>image-treat-1</td>\n",
       "      <td>38.330450</td>\n",
       "      <td>40.826534</td>\n",
       "      <td>lenet</td>\n",
       "      <td>8.0</td>\n",
       "    </tr>\n",
       "    <tr>\n",
       "      <th>2</th>\n",
       "      <td>relu</td>\n",
       "      <td>image-treat-1</td>\n",
       "      <td>11.032492</td>\n",
       "      <td>13.764649</td>\n",
       "      <td>alexnet</td>\n",
       "      <td>5.0</td>\n",
       "    </tr>\n",
       "    <tr>\n",
       "      <th>3</th>\n",
       "      <td>lrelu</td>\n",
       "      <td>image-treat-1</td>\n",
       "      <td>39.278125</td>\n",
       "      <td>41.974881</td>\n",
       "      <td>alexnet</td>\n",
       "      <td>5.0</td>\n",
       "    </tr>\n",
       "    <tr>\n",
       "      <th>4</th>\n",
       "      <td>relu</td>\n",
       "      <td>image-treat-2</td>\n",
       "      <td>37.854424</td>\n",
       "      <td>40.272234</td>\n",
       "      <td>lenet</td>\n",
       "      <td>39.0</td>\n",
       "    </tr>\n",
       "    <tr>\n",
       "      <th>5</th>\n",
       "      <td>lrelu</td>\n",
       "      <td>image-treat-2</td>\n",
       "      <td>38.501557</td>\n",
       "      <td>41.065953</td>\n",
       "      <td>lenet</td>\n",
       "      <td>21.0</td>\n",
       "    </tr>\n",
       "    <tr>\n",
       "      <th>6</th>\n",
       "      <td>relu</td>\n",
       "      <td>image-treat-2</td>\n",
       "      <td>11.591327</td>\n",
       "      <td>14.595028</td>\n",
       "      <td>alexnet</td>\n",
       "      <td>16.0</td>\n",
       "    </tr>\n",
       "    <tr>\n",
       "      <th>7</th>\n",
       "      <td>lrelu</td>\n",
       "      <td>image-treat-2</td>\n",
       "      <td>28.062363</td>\n",
       "      <td>31.811022</td>\n",
       "      <td>alexnet</td>\n",
       "      <td>16.0</td>\n",
       "    </tr>\n",
       "    <tr>\n",
       "      <th>8</th>\n",
       "      <td>relu</td>\n",
       "      <td>image-treat-3</td>\n",
       "      <td>38.656497</td>\n",
       "      <td>41.200746</td>\n",
       "      <td>lenet</td>\n",
       "      <td>46.0</td>\n",
       "    </tr>\n",
       "    <tr>\n",
       "      <th>9</th>\n",
       "      <td>lrelu</td>\n",
       "      <td>image-treat-3</td>\n",
       "      <td>38.261533</td>\n",
       "      <td>40.855255</td>\n",
       "      <td>lenet</td>\n",
       "      <td>38.0</td>\n",
       "    </tr>\n",
       "    <tr>\n",
       "      <th>10</th>\n",
       "      <td>relu</td>\n",
       "      <td>image-treat-3</td>\n",
       "      <td>13.098314</td>\n",
       "      <td>15.884113</td>\n",
       "      <td>alexnet</td>\n",
       "      <td>7.0</td>\n",
       "    </tr>\n",
       "    <tr>\n",
       "      <th>11</th>\n",
       "      <td>lrelu</td>\n",
       "      <td>image-treat-3</td>\n",
       "      <td>35.250238</td>\n",
       "      <td>38.044025</td>\n",
       "      <td>alexnet</td>\n",
       "      <td>18.0</td>\n",
       "    </tr>\n",
       "    <tr>\n",
       "      <th>12</th>\n",
       "      <td>relu</td>\n",
       "      <td>abordagem-4</td>\n",
       "      <td>9.980925</td>\n",
       "      <td>12.918468</td>\n",
       "      <td>lenet</td>\n",
       "      <td>38.0</td>\n",
       "    </tr>\n",
       "    <tr>\n",
       "      <th>13</th>\n",
       "      <td>relu</td>\n",
       "      <td>abordagem-5</td>\n",
       "      <td>10.089216</td>\n",
       "      <td>13.030968</td>\n",
       "      <td>lenet</td>\n",
       "      <td>9.0</td>\n",
       "    </tr>\n",
       "    <tr>\n",
       "      <th>14</th>\n",
       "      <td>relu</td>\n",
       "      <td>abordagem7</td>\n",
       "      <td>40.998037</td>\n",
       "      <td>38.395522</td>\n",
       "      <td>vgg16</td>\n",
       "      <td>23.0</td>\n",
       "    </tr>\n",
       "    <tr>\n",
       "      <th>15</th>\n",
       "      <td>relu</td>\n",
       "      <td>abordagem6</td>\n",
       "      <td>40.904041</td>\n",
       "      <td>38.352082</td>\n",
       "      <td>vgg16</td>\n",
       "      <td>11.0</td>\n",
       "    </tr>\n",
       "    <tr>\n",
       "      <th>20</th>\n",
       "      <td>relu</td>\n",
       "      <td>abordagem-squeeze1</td>\n",
       "      <td>10.721735</td>\n",
       "      <td>13.846121</td>\n",
       "      <td>squeeze</td>\n",
       "      <td>38.0</td>\n",
       "    </tr>\n",
       "  </tbody>\n",
       "</table>\n",
       "</div>"
      ],
      "text/plain": [
       "   Ativação                FASE        MAE       RMSE     Rede  Epoca\n",
       "0      relu       image-treat-1  10.537234  13.553820    lenet    4.0\n",
       "1     lrelu       image-treat-1  38.330450  40.826534    lenet    8.0\n",
       "2      relu       image-treat-1  11.032492  13.764649  alexnet    5.0\n",
       "3     lrelu       image-treat-1  39.278125  41.974881  alexnet    5.0\n",
       "4      relu       image-treat-2  37.854424  40.272234    lenet   39.0\n",
       "5     lrelu       image-treat-2  38.501557  41.065953    lenet   21.0\n",
       "6      relu       image-treat-2  11.591327  14.595028  alexnet   16.0\n",
       "7     lrelu       image-treat-2  28.062363  31.811022  alexnet   16.0\n",
       "8      relu       image-treat-3  38.656497  41.200746    lenet   46.0\n",
       "9     lrelu       image-treat-3  38.261533  40.855255    lenet   38.0\n",
       "10     relu       image-treat-3  13.098314  15.884113  alexnet    7.0\n",
       "11    lrelu       image-treat-3  35.250238  38.044025  alexnet   18.0\n",
       "12     relu         abordagem-4   9.980925  12.918468    lenet   38.0\n",
       "13     relu         abordagem-5  10.089216  13.030968    lenet    9.0\n",
       "14     relu          abordagem7  40.998037  38.395522    vgg16   23.0\n",
       "15     relu          abordagem6  40.904041  38.352082    vgg16   11.0\n",
       "20     relu  abordagem-squeeze1  10.721735  13.846121  squeeze   38.0"
      ]
     },
     "execution_count": 70,
     "metadata": {},
     "output_type": "execute_result"
    }
   ],
   "source": [
    "df_results.to_csv('graficos/results_teste.csv')\n",
    "df_results"
   ]
  },
  {
   "cell_type": "code",
   "execution_count": 66,
   "metadata": {
    "scrolled": true
   },
   "outputs": [],
   "source": [
    "new_df_results =  df_results.copy()"
   ]
  },
  {
   "cell_type": "code",
   "execution_count": 67,
   "metadata": {},
   "outputs": [],
   "source": [
    "new_df_results.drop(index=[i for i in range(16,20)], inplace=True)"
   ]
  },
  {
   "cell_type": "code",
   "execution_count": 68,
   "metadata": {},
   "outputs": [],
   "source": [
    "df_results = new_df_results"
   ]
  },
  {
   "cell_type": "code",
   "execution_count": 47,
   "metadata": {},
   "outputs": [],
   "source": [
    "prev = next(test_generator)\n",
    "\n",
    "\n",
    "#prev[1]\n",
    "predict = model.predict(prev[0])\n"
   ]
  },
  {
   "cell_type": "code",
   "execution_count": 49,
   "metadata": {},
   "outputs": [
    {
     "name": "stdout",
     "output_type": "stream",
     "text": [
      "[[35.36179 ]\n",
      " [37.19529 ]\n",
      " [34.78997 ]\n",
      " [34.65884 ]\n",
      " [34.10476 ]\n",
      " [32.963337]\n",
      " [33.819687]\n",
      " [37.23399 ]\n",
      " [42.443604]\n",
      " [34.917072]]\n"
     ]
    }
   ],
   "source": [
    "print(predict[:10])"
   ]
  },
  {
   "cell_type": "code",
   "execution_count": null,
   "metadata": {},
   "outputs": [],
   "source": []
  }
 ],
 "metadata": {
  "kernelspec": {
   "display_name": "Python 3",
   "language": "python",
   "name": "python3"
  },
  "language_info": {
   "codemirror_mode": {
    "name": "ipython",
    "version": 3
   },
   "file_extension": ".py",
   "mimetype": "text/x-python",
   "name": "python",
   "nbconvert_exporter": "python",
   "pygments_lexer": "ipython3",
   "version": "3.6.6"
  }
 },
 "nbformat": 4,
 "nbformat_minor": 2
}
