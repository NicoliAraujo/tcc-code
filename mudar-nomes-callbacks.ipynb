{
 "cells": [
  {
   "cell_type": "code",
   "execution_count": 16,
   "metadata": {},
   "outputs": [],
   "source": [
    "import os"
   ]
  },
  {
   "cell_type": "code",
   "execution_count": 17,
   "metadata": {},
   "outputs": [],
   "source": [
    "names = os.listdir('callbacks/alexnet/age/')"
   ]
  },
  {
   "cell_type": "code",
   "execution_count": 20,
   "metadata": {},
   "outputs": [
    {
     "data": {
      "text/plain": [
       "'class-weights-image-treat-1'"
      ]
     },
     "execution_count": 20,
     "metadata": {},
     "output_type": "execute_result"
    }
   ],
   "source": [
    "names[1][:27]"
   ]
  },
  {
   "cell_type": "code",
   "execution_count": 21,
   "metadata": {},
   "outputs": [
    {
     "name": "stdout",
     "output_type": "stream",
     "text": [
      "class-weights-image-treat-1.03-204.54.hdf5 class-weights-image-treat-1-relu.03-204.54.hdf5\n",
      "class-weights-image-treat-1.05-305.57.hdf5 class-weights-image-treat-1-relu.05-305.57.hdf5\n",
      "history-regression-fase2-1.csv history-regression-fase2-1.csv\n",
      "class-weights-image-treat-1.04-183.01.hdf5 class-weights-image-treat-1-relu.04-183.01.hdf5\n",
      "history-teste.csv history-teste.csv\n",
      "class-weights-image-treat-1.02-508.56.hdf5 class-weights-image-treat-1-relu.02-508.56.hdf5\n",
      "class-weights-reg-fase2-2.30-104.07.hdf5 class-weights-reg-fase2-2.30-104.07.hdf5\n",
      "class-weights-image-treat-1.01-267.44.hdf5 class-weights-image-treat-1-relu.01-267.44.hdf5\n",
      "history-regression-image-treat-1.csv history-regression-image-treat-1.csv\n",
      "class-weights-reg-fase2-1.10-1697.20.hdf5 class-weights-reg-fase2-1.10-1697.20.hdf5\n",
      "class-weights-image-treat-1.06-294.94.hdf5 class-weights-image-treat-1-relu.06-294.94.hdf5\n",
      "history-regression-fase2-2.csv history-regression-fase2-2.csv\n"
     ]
    }
   ],
   "source": [
    "for name in names:\n",
    "    if 'relu' not in name:\n",
    "        if name[:27] == 'class-weights-image-treat-1':\n",
    "            newname = name[:27] + '-relu' + name[27:]\n",
    "        elif name[:27] == 'class-weights-image-treat-2':\n",
    "            newname = name[:26] + '1-lrelu' + name[27:]\n",
    "        else:\n",
    "            newname = name\n",
    "        print(name, newname)\n",
    "        os.rename('callbacks/alexnet/age/' + name, 'callbacks/alexnet/age/' + newname)"
   ]
  },
  {
   "cell_type": "code",
   "execution_count": null,
   "metadata": {},
   "outputs": [],
   "source": []
  }
 ],
 "metadata": {
  "kernelspec": {
   "display_name": "Python 3",
   "language": "python",
   "name": "python3"
  },
  "language_info": {
   "codemirror_mode": {
    "name": "ipython",
    "version": 3
   },
   "file_extension": ".py",
   "mimetype": "text/x-python",
   "name": "python",
   "nbconvert_exporter": "python",
   "pygments_lexer": "ipython3",
   "version": "3.5.2"
  }
 },
 "nbformat": 4,
 "nbformat_minor": 2
}
