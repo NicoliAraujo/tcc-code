{
 "cells": [
  {
   "cell_type": "code",
   "execution_count": 2,
   "metadata": {},
   "outputs": [],
   "source": [
    "import pandas as pd"
   ]
  },
  {
   "cell_type": "code",
   "execution_count": 89,
   "metadata": {},
   "outputs": [],
   "source": [
    "df = pd.read_csv('graficos/results_teste.csv', index_col=0)"
   ]
  },
  {
   "cell_type": "code",
   "execution_count": 92,
   "metadata": {
    "scrolled": true
   },
   "outputs": [
    {
     "data": {
      "text/html": [
       "<div>\n",
       "<style scoped>\n",
       "    .dataframe tbody tr th:only-of-type {\n",
       "        vertical-align: middle;\n",
       "    }\n",
       "\n",
       "    .dataframe tbody tr th {\n",
       "        vertical-align: top;\n",
       "    }\n",
       "\n",
       "    .dataframe thead th {\n",
       "        text-align: right;\n",
       "    }\n",
       "</style>\n",
       "<table border=\"1\" class=\"dataframe\">\n",
       "  <thead>\n",
       "    <tr style=\"text-align: right;\">\n",
       "      <th></th>\n",
       "      <th>Ativação</th>\n",
       "      <th>FASE</th>\n",
       "      <th>MAE</th>\n",
       "      <th>RMSE</th>\n",
       "      <th>Rede</th>\n",
       "      <th>Epoca</th>\n",
       "    </tr>\n",
       "  </thead>\n",
       "  <tbody>\n",
       "    <tr>\n",
       "      <th>0</th>\n",
       "      <td>relu</td>\n",
       "      <td>image-treat-1</td>\n",
       "      <td>10.537234</td>\n",
       "      <td>13.553820</td>\n",
       "      <td>lenet</td>\n",
       "      <td>4</td>\n",
       "    </tr>\n",
       "    <tr>\n",
       "      <th>2</th>\n",
       "      <td>relu</td>\n",
       "      <td>image-treat-1</td>\n",
       "      <td>11.032492</td>\n",
       "      <td>13.764649</td>\n",
       "      <td>alexnet</td>\n",
       "      <td>5</td>\n",
       "    </tr>\n",
       "    <tr>\n",
       "      <th>6</th>\n",
       "      <td>relu</td>\n",
       "      <td>image-treat-2</td>\n",
       "      <td>11.591327</td>\n",
       "      <td>14.595028</td>\n",
       "      <td>alexnet</td>\n",
       "      <td>16</td>\n",
       "    </tr>\n",
       "    <tr>\n",
       "      <th>10</th>\n",
       "      <td>relu</td>\n",
       "      <td>image-treat-3</td>\n",
       "      <td>13.098314</td>\n",
       "      <td>15.884113</td>\n",
       "      <td>alexnet</td>\n",
       "      <td>7</td>\n",
       "    </tr>\n",
       "    <tr>\n",
       "      <th>7</th>\n",
       "      <td>lrelu</td>\n",
       "      <td>image-treat-2</td>\n",
       "      <td>28.062363</td>\n",
       "      <td>31.811022</td>\n",
       "      <td>alexnet</td>\n",
       "      <td>16</td>\n",
       "    </tr>\n",
       "    <tr>\n",
       "      <th>11</th>\n",
       "      <td>lrelu</td>\n",
       "      <td>image-treat-3</td>\n",
       "      <td>35.250238</td>\n",
       "      <td>38.044025</td>\n",
       "      <td>alexnet</td>\n",
       "      <td>18</td>\n",
       "    </tr>\n",
       "    <tr>\n",
       "      <th>4</th>\n",
       "      <td>relu</td>\n",
       "      <td>image-treat-2</td>\n",
       "      <td>37.854424</td>\n",
       "      <td>40.272234</td>\n",
       "      <td>lenet</td>\n",
       "      <td>39</td>\n",
       "    </tr>\n",
       "    <tr>\n",
       "      <th>9</th>\n",
       "      <td>lrelu</td>\n",
       "      <td>image-treat-3</td>\n",
       "      <td>38.261533</td>\n",
       "      <td>40.855255</td>\n",
       "      <td>lenet</td>\n",
       "      <td>38</td>\n",
       "    </tr>\n",
       "    <tr>\n",
       "      <th>1</th>\n",
       "      <td>lrelu</td>\n",
       "      <td>image-treat-1</td>\n",
       "      <td>38.330450</td>\n",
       "      <td>40.826534</td>\n",
       "      <td>lenet</td>\n",
       "      <td>8</td>\n",
       "    </tr>\n",
       "    <tr>\n",
       "      <th>5</th>\n",
       "      <td>lrelu</td>\n",
       "      <td>image-treat-2</td>\n",
       "      <td>38.501557</td>\n",
       "      <td>41.065953</td>\n",
       "      <td>lenet</td>\n",
       "      <td>21</td>\n",
       "    </tr>\n",
       "    <tr>\n",
       "      <th>8</th>\n",
       "      <td>relu</td>\n",
       "      <td>image-treat-3</td>\n",
       "      <td>38.656497</td>\n",
       "      <td>41.200746</td>\n",
       "      <td>lenet</td>\n",
       "      <td>46</td>\n",
       "    </tr>\n",
       "    <tr>\n",
       "      <th>3</th>\n",
       "      <td>lrelu</td>\n",
       "      <td>image-treat-1</td>\n",
       "      <td>39.278125</td>\n",
       "      <td>41.974881</td>\n",
       "      <td>alexnet</td>\n",
       "      <td>5</td>\n",
       "    </tr>\n",
       "  </tbody>\n",
       "</table>\n",
       "</div>"
      ],
      "text/plain": [
       "   Ativação           FASE        MAE       RMSE     Rede  Epoca\n",
       "0      relu  image-treat-1  10.537234  13.553820    lenet      4\n",
       "2      relu  image-treat-1  11.032492  13.764649  alexnet      5\n",
       "6      relu  image-treat-2  11.591327  14.595028  alexnet     16\n",
       "10     relu  image-treat-3  13.098314  15.884113  alexnet      7\n",
       "7     lrelu  image-treat-2  28.062363  31.811022  alexnet     16\n",
       "11    lrelu  image-treat-3  35.250238  38.044025  alexnet     18\n",
       "4      relu  image-treat-2  37.854424  40.272234    lenet     39\n",
       "9     lrelu  image-treat-3  38.261533  40.855255    lenet     38\n",
       "1     lrelu  image-treat-1  38.330450  40.826534    lenet      8\n",
       "5     lrelu  image-treat-2  38.501557  41.065953    lenet     21\n",
       "8      relu  image-treat-3  38.656497  41.200746    lenet     46\n",
       "3     lrelu  image-treat-1  39.278125  41.974881  alexnet      5"
      ]
     },
     "execution_count": 92,
     "metadata": {},
     "output_type": "execute_result"
    }
   ],
   "source": [
    "df.sort_values('MAE')"
   ]
  },
  {
   "cell_type": "code",
   "execution_count": 91,
   "metadata": {
    "scrolled": true
   },
   "outputs": [
    {
     "data": {
      "text/html": [
       "<div>\n",
       "<style scoped>\n",
       "    .dataframe tbody tr th:only-of-type {\n",
       "        vertical-align: middle;\n",
       "    }\n",
       "\n",
       "    .dataframe tbody tr th {\n",
       "        vertical-align: top;\n",
       "    }\n",
       "\n",
       "    .dataframe thead th {\n",
       "        text-align: right;\n",
       "    }\n",
       "</style>\n",
       "<table border=\"1\" class=\"dataframe\">\n",
       "  <thead>\n",
       "    <tr style=\"text-align: right;\">\n",
       "      <th></th>\n",
       "      <th>Ativação</th>\n",
       "      <th>FASE</th>\n",
       "      <th>MAE</th>\n",
       "      <th>RMSE</th>\n",
       "      <th>Rede</th>\n",
       "      <th>Epoca</th>\n",
       "    </tr>\n",
       "  </thead>\n",
       "  <tbody>\n",
       "    <tr>\n",
       "      <th>0</th>\n",
       "      <td>relu</td>\n",
       "      <td>image-treat-1</td>\n",
       "      <td>10.537234</td>\n",
       "      <td>13.553820</td>\n",
       "      <td>lenet</td>\n",
       "      <td>4</td>\n",
       "    </tr>\n",
       "    <tr>\n",
       "      <th>2</th>\n",
       "      <td>relu</td>\n",
       "      <td>image-treat-1</td>\n",
       "      <td>11.032492</td>\n",
       "      <td>13.764649</td>\n",
       "      <td>alexnet</td>\n",
       "      <td>5</td>\n",
       "    </tr>\n",
       "    <tr>\n",
       "      <th>6</th>\n",
       "      <td>relu</td>\n",
       "      <td>image-treat-2</td>\n",
       "      <td>11.591327</td>\n",
       "      <td>14.595028</td>\n",
       "      <td>alexnet</td>\n",
       "      <td>16</td>\n",
       "    </tr>\n",
       "    <tr>\n",
       "      <th>10</th>\n",
       "      <td>relu</td>\n",
       "      <td>image-treat-3</td>\n",
       "      <td>13.098314</td>\n",
       "      <td>15.884113</td>\n",
       "      <td>alexnet</td>\n",
       "      <td>7</td>\n",
       "    </tr>\n",
       "    <tr>\n",
       "      <th>7</th>\n",
       "      <td>lrelu</td>\n",
       "      <td>image-treat-2</td>\n",
       "      <td>28.062363</td>\n",
       "      <td>31.811022</td>\n",
       "      <td>alexnet</td>\n",
       "      <td>16</td>\n",
       "    </tr>\n",
       "    <tr>\n",
       "      <th>11</th>\n",
       "      <td>lrelu</td>\n",
       "      <td>image-treat-3</td>\n",
       "      <td>35.250238</td>\n",
       "      <td>38.044025</td>\n",
       "      <td>alexnet</td>\n",
       "      <td>18</td>\n",
       "    </tr>\n",
       "    <tr>\n",
       "      <th>4</th>\n",
       "      <td>relu</td>\n",
       "      <td>image-treat-2</td>\n",
       "      <td>37.854424</td>\n",
       "      <td>40.272234</td>\n",
       "      <td>lenet</td>\n",
       "      <td>39</td>\n",
       "    </tr>\n",
       "    <tr>\n",
       "      <th>1</th>\n",
       "      <td>lrelu</td>\n",
       "      <td>image-treat-1</td>\n",
       "      <td>38.330450</td>\n",
       "      <td>40.826534</td>\n",
       "      <td>lenet</td>\n",
       "      <td>8</td>\n",
       "    </tr>\n",
       "    <tr>\n",
       "      <th>9</th>\n",
       "      <td>lrelu</td>\n",
       "      <td>image-treat-3</td>\n",
       "      <td>38.261533</td>\n",
       "      <td>40.855255</td>\n",
       "      <td>lenet</td>\n",
       "      <td>38</td>\n",
       "    </tr>\n",
       "    <tr>\n",
       "      <th>5</th>\n",
       "      <td>lrelu</td>\n",
       "      <td>image-treat-2</td>\n",
       "      <td>38.501557</td>\n",
       "      <td>41.065953</td>\n",
       "      <td>lenet</td>\n",
       "      <td>21</td>\n",
       "    </tr>\n",
       "    <tr>\n",
       "      <th>8</th>\n",
       "      <td>relu</td>\n",
       "      <td>image-treat-3</td>\n",
       "      <td>38.656497</td>\n",
       "      <td>41.200746</td>\n",
       "      <td>lenet</td>\n",
       "      <td>46</td>\n",
       "    </tr>\n",
       "    <tr>\n",
       "      <th>3</th>\n",
       "      <td>lrelu</td>\n",
       "      <td>image-treat-1</td>\n",
       "      <td>39.278125</td>\n",
       "      <td>41.974881</td>\n",
       "      <td>alexnet</td>\n",
       "      <td>5</td>\n",
       "    </tr>\n",
       "  </tbody>\n",
       "</table>\n",
       "</div>"
      ],
      "text/plain": [
       "   Ativação           FASE        MAE       RMSE     Rede  Epoca\n",
       "0      relu  image-treat-1  10.537234  13.553820    lenet      4\n",
       "2      relu  image-treat-1  11.032492  13.764649  alexnet      5\n",
       "6      relu  image-treat-2  11.591327  14.595028  alexnet     16\n",
       "10     relu  image-treat-3  13.098314  15.884113  alexnet      7\n",
       "7     lrelu  image-treat-2  28.062363  31.811022  alexnet     16\n",
       "11    lrelu  image-treat-3  35.250238  38.044025  alexnet     18\n",
       "4      relu  image-treat-2  37.854424  40.272234    lenet     39\n",
       "1     lrelu  image-treat-1  38.330450  40.826534    lenet      8\n",
       "9     lrelu  image-treat-3  38.261533  40.855255    lenet     38\n",
       "5     lrelu  image-treat-2  38.501557  41.065953    lenet     21\n",
       "8      relu  image-treat-3  38.656497  41.200746    lenet     46\n",
       "3     lrelu  image-treat-1  39.278125  41.974881  alexnet      5"
      ]
     },
     "execution_count": 91,
     "metadata": {},
     "output_type": "execute_result"
    }
   ],
   "source": [
    "df.sort_values(by='RMSE')"
   ]
  },
  {
   "cell_type": "markdown",
   "metadata": {},
   "source": [
    "## Ajeitando épocas"
   ]
  },
  {
   "cell_type": "code",
   "execution_count": 9,
   "metadata": {},
   "outputs": [],
   "source": [
    "import glob"
   ]
  },
  {
   "cell_type": "code",
   "execution_count": 17,
   "metadata": {},
   "outputs": [],
   "source": [
    "net, img_treat, activation ='lenet', 'image-treat-1', 'lrelu'"
   ]
  },
  {
   "cell_type": "code",
   "execution_count": 20,
   "metadata": {
    "scrolled": true
   },
   "outputs": [],
   "source": [
    "weights_path = glob.glob('callbacks/' + net + '/age/consolidados/class-weights-' + img_treat + '-' + activation + '*')[0]"
   ]
  },
  {
   "cell_type": "code",
   "execution_count": 40,
   "metadata": {},
   "outputs": [
    {
     "data": {
      "text/plain": [
       "'callbacks/lenet/age/consolidados/class-weights-image-treat-1-relu.03-169.37.hdf5'"
      ]
     },
     "execution_count": 40,
     "metadata": {},
     "output_type": "execute_result"
    }
   ],
   "source": [
    "weights_path"
   ]
  },
  {
   "cell_type": "code",
   "execution_count": 43,
   "metadata": {},
   "outputs": [
    {
     "data": {
      "text/plain": [
       "67"
      ]
     },
     "execution_count": 43,
     "metadata": {},
     "output_type": "execute_result"
    }
   ],
   "source": [
    "weights_path.find(activation)+len(activation)+2"
   ]
  },
  {
   "cell_type": "code",
   "execution_count": 46,
   "metadata": {
    "scrolled": true
   },
   "outputs": [
    {
     "data": {
      "text/plain": [
       "'03'"
      ]
     },
     "execution_count": 46,
     "metadata": {},
     "output_type": "execute_result"
    }
   ],
   "source": [
    "start = weights_path.find(activation)+len(activation)+1\n",
    "end = start + 2\n",
    "weights_path[start:end]"
   ]
  },
  {
   "cell_type": "code",
   "execution_count": 56,
   "metadata": {},
   "outputs": [],
   "source": [
    "df_results = pd.read_csv('graficos/results_teste.csv', index_col=0)"
   ]
  },
  {
   "cell_type": "code",
   "execution_count": 57,
   "metadata": {},
   "outputs": [],
   "source": [
    "df_results['Epoca']+"
   ]
  },
  {
   "cell_type": "code",
   "execution_count": 58,
   "metadata": {},
   "outputs": [
    {
     "data": {
      "text/html": [
       "<div>\n",
       "<style scoped>\n",
       "    .dataframe tbody tr th:only-of-type {\n",
       "        vertical-align: middle;\n",
       "    }\n",
       "\n",
       "    .dataframe tbody tr th {\n",
       "        vertical-align: top;\n",
       "    }\n",
       "\n",
       "    .dataframe thead th {\n",
       "        text-align: right;\n",
       "    }\n",
       "</style>\n",
       "<table border=\"1\" class=\"dataframe\">\n",
       "  <thead>\n",
       "    <tr style=\"text-align: right;\">\n",
       "      <th></th>\n",
       "      <th>Ativação</th>\n",
       "      <th>FASE</th>\n",
       "      <th>MAE</th>\n",
       "      <th>RMSE</th>\n",
       "      <th>Rede</th>\n",
       "      <th>Epoca</th>\n",
       "    </tr>\n",
       "  </thead>\n",
       "  <tbody>\n",
       "    <tr>\n",
       "      <th>0</th>\n",
       "      <td>relu</td>\n",
       "      <td>image-treat-1</td>\n",
       "      <td>10.537234</td>\n",
       "      <td>13.55382</td>\n",
       "      <td>lenet</td>\n",
       "      <td>0</td>\n",
       "    </tr>\n",
       "  </tbody>\n",
       "</table>\n",
       "</div>"
      ],
      "text/plain": [
       "  Ativação           FASE        MAE      RMSE   Rede  Epoca\n",
       "0     relu  image-treat-1  10.537234  13.55382  lenet      0"
      ]
     },
     "execution_count": 58,
     "metadata": {},
     "output_type": "execute_result"
    }
   ],
   "source": [
    "df_results.loc[df_results['Ativação'] == activation].loc[df_results['FASE']==img_treat].loc[df_results['Rede']==net]"
   ]
  },
  {
   "cell_type": "code",
   "execution_count": 65,
   "metadata": {},
   "outputs": [
    {
     "data": {
      "text/plain": [
       "17"
      ]
     },
     "execution_count": 65,
     "metadata": {},
     "output_type": "execute_result"
    }
   ],
   "source": [
    "epoca"
   ]
  },
  {
   "cell_type": "code",
   "execution_count": 64,
   "metadata": {},
   "outputs": [],
   "source": [
    "df_results.loc[df_results['Ativação'] == activation].loc[df_results['FASE']==img_treat].loc[df_results['Rede']==net].loc[:,'Epoca'] = epoca"
   ]
  },
  {
   "cell_type": "code",
   "execution_count": 67,
   "metadata": {},
   "outputs": [],
   "source": [
    "indice = df_results.loc[df_results['Ativação'] == activation].loc[df_results['FASE']==img_treat].loc[df_results['Rede']==net].index#.loc[:,'Epoca'] "
   ]
  },
  {
   "cell_type": "code",
   "execution_count": 69,
   "metadata": {},
   "outputs": [
    {
     "data": {
      "text/plain": [
       "11    0\n",
       "Name: Epoca, dtype: int64"
      ]
     },
     "execution_count": 69,
     "metadata": {},
     "output_type": "execute_result"
    }
   ],
   "source": [
    "df_results.loc[indice, 'Epoca']"
   ]
  },
  {
   "cell_type": "code",
   "execution_count": 71,
   "metadata": {
    "scrolled": false
   },
   "outputs": [],
   "source": [
    "activations = ['relu', 'lrelu']\n",
    "img_treats=['image-treat-1', 'image-treat-2', 'image-treat-3']\n",
    "nets = ['lenet', 'alexnet']\n",
    "\n",
    "for img_treat in img_treats:\n",
    "    for net in nets:\n",
    "        for activation in activations:\n",
    "\n",
    "            \n",
    "            weights_path = glob.glob('callbacks/' + net + '/age/consolidados/class-weights-' + img_treat + '-' + activation + '*')[0]\n",
    "            start = weights_path.find(activation)+len(activation)+1\n",
    "            end = start + 2\n",
    "            epoca = int(weights_path[start:end])\n",
    "            indice = df_results.loc[df_results['Ativação'] == activation].loc[df_results['FASE']==img_treat].loc[df_results['Rede']==net].index\n",
    "           \n",
    "            df_results.loc[indice, 'Epoca'] = epoca\n",
    "\n",
    "            #df_results.to_csv('graficos/results_teste_' + img_treat + '.csv', index_col=0)\n",
    "            df_results.to_csv('graficos/results_teste.csv')\n",
    "\n",
    "\n",
    "\n"
   ]
  },
  {
   "cell_type": "code",
   "execution_count": 72,
   "metadata": {
    "scrolled": true
   },
   "outputs": [
    {
     "data": {
      "text/html": [
       "<div>\n",
       "<style scoped>\n",
       "    .dataframe tbody tr th:only-of-type {\n",
       "        vertical-align: middle;\n",
       "    }\n",
       "\n",
       "    .dataframe tbody tr th {\n",
       "        vertical-align: top;\n",
       "    }\n",
       "\n",
       "    .dataframe thead th {\n",
       "        text-align: right;\n",
       "    }\n",
       "</style>\n",
       "<table border=\"1\" class=\"dataframe\">\n",
       "  <thead>\n",
       "    <tr style=\"text-align: right;\">\n",
       "      <th></th>\n",
       "      <th>Ativação</th>\n",
       "      <th>FASE</th>\n",
       "      <th>MAE</th>\n",
       "      <th>RMSE</th>\n",
       "      <th>Rede</th>\n",
       "      <th>Epoca</th>\n",
       "    </tr>\n",
       "  </thead>\n",
       "  <tbody>\n",
       "    <tr>\n",
       "      <th>0</th>\n",
       "      <td>relu</td>\n",
       "      <td>image-treat-1</td>\n",
       "      <td>10.537234</td>\n",
       "      <td>13.553820</td>\n",
       "      <td>lenet</td>\n",
       "      <td>3</td>\n",
       "    </tr>\n",
       "    <tr>\n",
       "      <th>1</th>\n",
       "      <td>lrelu</td>\n",
       "      <td>image-treat-1</td>\n",
       "      <td>38.330450</td>\n",
       "      <td>40.826534</td>\n",
       "      <td>lenet</td>\n",
       "      <td>7</td>\n",
       "    </tr>\n",
       "    <tr>\n",
       "      <th>2</th>\n",
       "      <td>relu</td>\n",
       "      <td>image-treat-1</td>\n",
       "      <td>11.032492</td>\n",
       "      <td>13.764649</td>\n",
       "      <td>alexnet</td>\n",
       "      <td>4</td>\n",
       "    </tr>\n",
       "    <tr>\n",
       "      <th>3</th>\n",
       "      <td>lrelu</td>\n",
       "      <td>image-treat-1</td>\n",
       "      <td>39.278125</td>\n",
       "      <td>41.974881</td>\n",
       "      <td>alexnet</td>\n",
       "      <td>4</td>\n",
       "    </tr>\n",
       "    <tr>\n",
       "      <th>4</th>\n",
       "      <td>relu</td>\n",
       "      <td>image-treat-2</td>\n",
       "      <td>37.854424</td>\n",
       "      <td>40.272234</td>\n",
       "      <td>lenet</td>\n",
       "      <td>38</td>\n",
       "    </tr>\n",
       "    <tr>\n",
       "      <th>5</th>\n",
       "      <td>lrelu</td>\n",
       "      <td>image-treat-2</td>\n",
       "      <td>38.501557</td>\n",
       "      <td>41.065953</td>\n",
       "      <td>lenet</td>\n",
       "      <td>20</td>\n",
       "    </tr>\n",
       "    <tr>\n",
       "      <th>6</th>\n",
       "      <td>relu</td>\n",
       "      <td>image-treat-2</td>\n",
       "      <td>11.591327</td>\n",
       "      <td>14.595028</td>\n",
       "      <td>alexnet</td>\n",
       "      <td>15</td>\n",
       "    </tr>\n",
       "    <tr>\n",
       "      <th>7</th>\n",
       "      <td>lrelu</td>\n",
       "      <td>image-treat-2</td>\n",
       "      <td>28.062363</td>\n",
       "      <td>31.811022</td>\n",
       "      <td>alexnet</td>\n",
       "      <td>15</td>\n",
       "    </tr>\n",
       "    <tr>\n",
       "      <th>8</th>\n",
       "      <td>relu</td>\n",
       "      <td>image-treat-3</td>\n",
       "      <td>38.656497</td>\n",
       "      <td>41.200746</td>\n",
       "      <td>lenet</td>\n",
       "      <td>45</td>\n",
       "    </tr>\n",
       "    <tr>\n",
       "      <th>9</th>\n",
       "      <td>lrelu</td>\n",
       "      <td>image-treat-3</td>\n",
       "      <td>38.261533</td>\n",
       "      <td>40.855255</td>\n",
       "      <td>lenet</td>\n",
       "      <td>37</td>\n",
       "    </tr>\n",
       "    <tr>\n",
       "      <th>10</th>\n",
       "      <td>relu</td>\n",
       "      <td>image-treat-3</td>\n",
       "      <td>13.098314</td>\n",
       "      <td>15.884113</td>\n",
       "      <td>alexnet</td>\n",
       "      <td>6</td>\n",
       "    </tr>\n",
       "    <tr>\n",
       "      <th>11</th>\n",
       "      <td>lrelu</td>\n",
       "      <td>image-treat-3</td>\n",
       "      <td>35.250238</td>\n",
       "      <td>38.044025</td>\n",
       "      <td>alexnet</td>\n",
       "      <td>17</td>\n",
       "    </tr>\n",
       "  </tbody>\n",
       "</table>\n",
       "</div>"
      ],
      "text/plain": [
       "   Ativação           FASE        MAE       RMSE     Rede  Epoca\n",
       "0      relu  image-treat-1  10.537234  13.553820    lenet      3\n",
       "1     lrelu  image-treat-1  38.330450  40.826534    lenet      7\n",
       "2      relu  image-treat-1  11.032492  13.764649  alexnet      4\n",
       "3     lrelu  image-treat-1  39.278125  41.974881  alexnet      4\n",
       "4      relu  image-treat-2  37.854424  40.272234    lenet     38\n",
       "5     lrelu  image-treat-2  38.501557  41.065953    lenet     20\n",
       "6      relu  image-treat-2  11.591327  14.595028  alexnet     15\n",
       "7     lrelu  image-treat-2  28.062363  31.811022  alexnet     15\n",
       "8      relu  image-treat-3  38.656497  41.200746    lenet     45\n",
       "9     lrelu  image-treat-3  38.261533  40.855255    lenet     37\n",
       "10     relu  image-treat-3  13.098314  15.884113  alexnet      6\n",
       "11    lrelu  image-treat-3  35.250238  38.044025  alexnet     17"
      ]
     },
     "execution_count": 72,
     "metadata": {},
     "output_type": "execute_result"
    }
   ],
   "source": [
    "df_results"
   ]
  },
  {
   "cell_type": "code",
   "execution_count": 86,
   "metadata": {},
   "outputs": [],
   "source": [
    "df['Epoca']+=1"
   ]
  },
  {
   "cell_type": "code",
   "execution_count": 87,
   "metadata": {},
   "outputs": [
    {
     "data": {
      "text/plain": [
       "0      4\n",
       "1      8\n",
       "2      5\n",
       "3      5\n",
       "4     39\n",
       "5     21\n",
       "6     16\n",
       "7     16\n",
       "8     46\n",
       "9     38\n",
       "10     7\n",
       "11    18\n",
       "Name: Epoca, dtype: int64"
      ]
     },
     "execution_count": 87,
     "metadata": {},
     "output_type": "execute_result"
    }
   ],
   "source": [
    "df['Epoca']"
   ]
  },
  {
   "cell_type": "code",
   "execution_count": 88,
   "metadata": {},
   "outputs": [],
   "source": [
    "df.to_csv('graficos/results_teste.csv')"
   ]
  },
  {
   "cell_type": "code",
   "execution_count": null,
   "metadata": {},
   "outputs": [],
   "source": []
  }
 ],
 "metadata": {
  "kernelspec": {
   "display_name": "Python 3",
   "language": "python",
   "name": "python3"
  },
  "language_info": {
   "codemirror_mode": {
    "name": "ipython",
    "version": 3
   },
   "file_extension": ".py",
   "mimetype": "text/x-python",
   "name": "python",
   "nbconvert_exporter": "python",
   "pygments_lexer": "ipython3",
   "version": "3.5.2"
  }
 },
 "nbformat": 4,
 "nbformat_minor": 2
}
